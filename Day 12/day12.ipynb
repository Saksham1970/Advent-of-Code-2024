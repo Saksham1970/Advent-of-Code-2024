{
 "cells": [
  {
   "cell_type": "code",
   "execution_count": 1,
   "metadata": {},
   "outputs": [],
   "source": [
    "with open('day12.txt') as f:\n",
    "    lines = f.read()\n",
    "    grid = [list(line) for line in lines.strip().split('\\n')]\n",
    "    grid2 = [[None] * 2 * len(grid[0]) for _ in range(2 * len(grid))]\n",
    "    for r in range(len(grid)):\n",
    "        for c, char in enumerate(grid[r]):\n",
    "            for dr in (0, 1):\n",
    "                for dc in (0, 1):\n",
    "                    grid2[2 * r + dr][2 * c + dc] = char\n",
    "    grid = grid2"
   ]
  },
  {
   "cell_type": "code",
   "execution_count": 2,
   "metadata": {},
   "outputs": [],
   "source": [
    "from collections import defaultdict\n",
    "seeds = [[None] * len(grid[0]) for _ in range(len(grid))]\n",
    "\n",
    "areas = defaultdict(int)\n",
    "parameters = defaultdict(int)\n",
    "corners = defaultdict(int)"
   ]
  },
  {
   "cell_type": "code",
   "execution_count": 3,
   "metadata": {},
   "outputs": [],
   "source": [
    "def dfs(r, c, seed):\n",
    "    if r < 0 or r >= len(grid) or c < 0 or c >= len(grid[0]) or seeds[r][c] != None or grid[r][c] != grid[seed[0]][seed[1]]:\n",
    "        return\n",
    "    \n",
    "    seeds[r][c] = seed\n",
    "    areas[seed] += 1\n",
    "    \n",
    "    parameter = (\n",
    "        (r == 0                 or grid[r - 1][c] != grid[r][c]) +\n",
    "        (r == len(grid) - 1     or grid[r + 1][c] != grid[r][c]) +\n",
    "        (c == 0                 or grid[r][c - 1] != grid[r][c]) +\n",
    "        (c == len(grid[0]) - 1  or grid[r][c + 1] != grid[r][c])\n",
    "    )\n",
    "    \n",
    "    parameters[seed] += parameter\n",
    "    \n",
    "    # Check if corner\n",
    "    if parameter == 2 or (\n",
    "        parameter == 0\n",
    "        and (grid[r - 1][c - 1] != grid[r][c] \n",
    "             or grid[r + 1][c + 1] != grid[r][c]\n",
    "             or grid[r + 1][c - 1] != grid[r][c]\n",
    "             or grid[r - 1][c + 1] != grid[r][c])\n",
    "    ):\n",
    "        corners[seed] += 1\n",
    "    \n",
    "    for dr, dc in ((0, 1), (0, -1), (1, 0), (-1, 0)):\n",
    "        dfs(r + dr, c + dc, seed)"
   ]
  },
  {
   "cell_type": "code",
   "execution_count": 4,
   "metadata": {},
   "outputs": [],
   "source": [
    "for r in range(len(grid)):\n",
    "    for c in range(len(grid[0])):\n",
    "        if seeds[r][c] == None:\n",
    "            dfs(r, c, (r, c))"
   ]
  },
  {
   "cell_type": "markdown",
   "metadata": {},
   "source": [
    "# Part 1"
   ]
  },
  {
   "cell_type": "code",
   "execution_count": 5,
   "metadata": {},
   "outputs": [
    {
     "data": {
      "text/plain": [
       "1518548"
      ]
     },
     "execution_count": 5,
     "metadata": {},
     "output_type": "execute_result"
    }
   ],
   "source": [
    "res = 0\n",
    "for seed in areas:\n",
    "    res += areas[seed] // 4 * parameters[seed] // 2\n",
    "res"
   ]
  },
  {
   "cell_type": "markdown",
   "metadata": {},
   "source": [
    "# Part 2"
   ]
  },
  {
   "cell_type": "code",
   "execution_count": 6,
   "metadata": {},
   "outputs": [
    {
     "data": {
      "text/plain": [
       "909564"
      ]
     },
     "execution_count": 6,
     "metadata": {},
     "output_type": "execute_result"
    }
   ],
   "source": [
    "res = 0\n",
    "for seed in areas:\n",
    "    res += areas[seed] // 4 * corners[seed]\n",
    "res"
   ]
  }
 ],
 "metadata": {
  "kernelspec": {
   "display_name": "base",
   "language": "python",
   "name": "python3"
  },
  "language_info": {
   "codemirror_mode": {
    "name": "ipython",
    "version": 3
   },
   "file_extension": ".py",
   "mimetype": "text/x-python",
   "name": "python",
   "nbconvert_exporter": "python",
   "pygments_lexer": "ipython3",
   "version": "3.12.4"
  }
 },
 "nbformat": 4,
 "nbformat_minor": 2
}
