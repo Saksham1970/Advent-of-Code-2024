{
 "cells": [
  {
   "cell_type": "code",
   "execution_count": 4,
   "metadata": {},
   "outputs": [],
   "source": [
    "with open('day2.txt') as f:\n",
    "    lines = f.readlines()"
   ]
  },
  {
   "cell_type": "code",
   "execution_count": 34,
   "metadata": {},
   "outputs": [],
   "source": [
    "reports = [list(map(int, line.strip().split())) for line in lines]"
   ]
  },
  {
   "cell_type": "markdown",
   "metadata": {},
   "source": [
    "# Part 1"
   ]
  },
  {
   "cell_type": "code",
   "execution_count": 17,
   "metadata": {},
   "outputs": [
    {
     "data": {
      "text/plain": [
       "299"
      ]
     },
     "execution_count": 17,
     "metadata": {},
     "output_type": "execute_result"
    }
   ],
   "source": [
    "safe = 0\n",
    "for report in reports:\n",
    "    is_pos = ((report[1] - report[0]) > 0)\n",
    "    for i in range(len(report) - 1):\n",
    "        diff = report[i + 1] - report[i]\n",
    "        if (is_pos and diff < 0) or (not is_pos and diff > 0) or (abs(diff) > 3) or (abs(diff) < 1):\n",
    "            break\n",
    "    else: safe += 1\n",
    "\n",
    "safe\n",
    "    "
   ]
  },
  {
   "cell_type": "markdown",
   "metadata": {},
   "source": [
    "# Part 2"
   ]
  },
  {
   "cell_type": "code",
   "execution_count": 36,
   "metadata": {},
   "outputs": [
    {
     "data": {
      "text/plain": [
       "364"
      ]
     },
     "execution_count": 36,
     "metadata": {},
     "output_type": "execute_result"
    }
   ],
   "source": [
    "safe = 0\n",
    "for report in reports:\n",
    "    free_bad = True\n",
    "    is_pos = (((report[1] - report[0]) > 0) +\n",
    "              ((report[2] - report[1]) > 0) +\n",
    "              ((report[3] - report[2]) > 0)) > 1\n",
    "    \n",
    "    \n",
    "    for i in range(len(report) - 1):\n",
    "        diff = report[i + 1] - report[i]\n",
    "        if (is_pos and diff < 0) or (not is_pos and diff > 0) or (abs(diff) > 3) or (abs(diff) < 1):\n",
    "            \n",
    "            back = report[i - 1] if i > 0 else report[i + 1] - (2 * is_pos - 1)\n",
    "            front = report[i + 2] if i < len(report) - 2 else report[i] + (2 * is_pos - 1)\n",
    "            \n",
    "            diff1 = report[i + 1] - back\n",
    "            diff2 = front - report[i]\n",
    "            \n",
    "            if (is_pos and 3 >= diff2 >= 1) or (not is_pos and -3 <= diff2 <= -1):\n",
    "                report[i + 1] = report[i]\n",
    "            \n",
    "            elif not((is_pos and 3 >= diff1 >= 1) or (not is_pos and -3 <= diff1 <= -1)):\n",
    "               break \n",
    "            \n",
    "            \n",
    "            if free_bad:\n",
    "                free_bad = False\n",
    "                continue\n",
    "            break\n",
    "            \n",
    "    else: safe += 1\n",
    "\n",
    "safe\n",
    "    "
   ]
  }
 ],
 "metadata": {
  "kernelspec": {
   "display_name": "base",
   "language": "python",
   "name": "python3"
  },
  "language_info": {
   "codemirror_mode": {
    "name": "ipython",
    "version": 3
   },
   "file_extension": ".py",
   "mimetype": "text/x-python",
   "name": "python",
   "nbconvert_exporter": "python",
   "pygments_lexer": "ipython3",
   "version": "3.12.4"
  }
 },
 "nbformat": 4,
 "nbformat_minor": 2
}
