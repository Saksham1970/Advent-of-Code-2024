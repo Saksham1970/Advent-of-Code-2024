{
 "cells": [
  {
   "cell_type": "code",
   "execution_count": 1,
   "metadata": {},
   "outputs": [],
   "source": [
    "with open('day19-p1.txt') as f:\n",
    "    line = f.readline()\n",
    "    designs = line[:-1].split(', ')    \n",
    "    _ = f.readline()\n",
    "    \n",
    "    lines = f.readlines()\n",
    "    messages = [line.strip() for line in lines]"
   ]
  },
  {
   "cell_type": "markdown",
   "metadata": {},
   "source": [
    "# Part 1"
   ]
  },
  {
   "cell_type": "code",
   "execution_count": 2,
   "metadata": {},
   "outputs": [],
   "source": [
    "trie = {}\n",
    "\n",
    "for design in designs:\n",
    "    curr = trie\n",
    "    for char in design:\n",
    "        if char not in curr:\n",
    "            curr[char] = {}\n",
    "        curr = curr[char]\n",
    "    curr['#'] = True"
   ]
  },
  {
   "cell_type": "code",
   "execution_count": 3,
   "metadata": {},
   "outputs": [],
   "source": [
    "def match(i, j):\n",
    "    curr = trie\n",
    "    message = messages[i]\n",
    "    \n",
    "    for k in range(j, len(message)):\n",
    "        if '#' in curr:\n",
    "            if match(i, k): return True\n",
    "        if message[k] not in curr:\n",
    "            return False\n",
    "        curr = curr[message[k]]\n",
    "    \n",
    "    return True"
   ]
  },
  {
   "cell_type": "code",
   "execution_count": 4,
   "metadata": {},
   "outputs": [
    {
     "data": {
      "text/plain": [
       "238"
      ]
     },
     "execution_count": 4,
     "metadata": {},
     "output_type": "execute_result"
    }
   ],
   "source": [
    "res = 0\n",
    "for i in range(len(messages)):\n",
    "    if match(i, 0):\n",
    "        res += 1\n",
    "        \n",
    "res"
   ]
  },
  {
   "cell_type": "markdown",
   "metadata": {},
   "source": [
    "# Part 2"
   ]
  },
  {
   "cell_type": "code",
   "execution_count": 7,
   "metadata": {},
   "outputs": [],
   "source": [
    "dp = {}\n",
    "\n",
    "def match(i, j):\n",
    "    if messages[i][j:] in dp:\n",
    "        return dp[messages[i][j:]]\n",
    "    \n",
    "    curr = trie\n",
    "    message = messages[i]\n",
    "    res = 0\n",
    "    \n",
    "    for k in range(j, len(message)):\n",
    "        if '#' in curr:\n",
    "            res += match(i, k)\n",
    "        if message[k] not in curr:\n",
    "            break\n",
    "        curr = curr[message[k]]\n",
    "    \n",
    "    else:\n",
    "        if '#' in curr:\n",
    "            res += 1\n",
    "        \n",
    "    dp[messages[i][j:]] = res\n",
    "    return res \n",
    "    "
   ]
  },
  {
   "cell_type": "code",
   "execution_count": 8,
   "metadata": {},
   "outputs": [
    {
     "data": {
      "text/plain": [
       "635018909726691"
      ]
     },
     "execution_count": 8,
     "metadata": {},
     "output_type": "execute_result"
    }
   ],
   "source": [
    "res = 0\n",
    "for i in range(len(messages)):\n",
    "    res += match(i, 0)\n",
    "res"
   ]
  }
 ],
 "metadata": {
  "kernelspec": {
   "display_name": "base",
   "language": "python",
   "name": "python3"
  },
  "language_info": {
   "codemirror_mode": {
    "name": "ipython",
    "version": 3
   },
   "file_extension": ".py",
   "mimetype": "text/x-python",
   "name": "python",
   "nbconvert_exporter": "python",
   "pygments_lexer": "ipython3",
   "version": "3.12.2"
  }
 },
 "nbformat": 4,
 "nbformat_minor": 2
}
