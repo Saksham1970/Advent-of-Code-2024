{
 "cells": [
  {
   "cell_type": "code",
   "execution_count": 10,
   "metadata": {},
   "outputs": [],
   "source": [
    "with open('day10.txt') as f:\n",
    "    lines = f.read()\n",
    "    grid = [list(line) for line in lines.strip().split('\\n')]\n",
    "\n",
    "trailheads = {}\n",
    "\n",
    "for r in range(len(grid)):\n",
    "    for c in range(len(grid[0])):\n",
    "        grid[r][c] = int(grid[r][c])\n",
    "        if grid[r][c] == 0:\n",
    "            trailheads[(r, c)] = {}"
   ]
  },
  {
   "cell_type": "markdown",
   "metadata": {},
   "source": [
    "# Part 1"
   ]
  },
  {
   "cell_type": "code",
   "execution_count": 11,
   "metadata": {},
   "outputs": [],
   "source": [
    "def backtrack(r, c, trail, trailhead):\n",
    "    if trail == 9:\n",
    "        trailheads[trailhead][(r, c)] = trailheads[trailhead].get((r, c), 0) + 1\n",
    "        return\n",
    "    \n",
    "    for dr, dc in ((-1, 0), (1, 0), (0, -1), (0, 1)):\n",
    "        nr, nc = r + dr, c + dc\n",
    "        if 0 <= nr < len(grid) and 0 <= nc < len(grid[0]) and grid[nr][nc] == trail + 1:\n",
    "            backtrack(nr, nc, trail + 1, trailhead)"
   ]
  },
  {
   "cell_type": "code",
   "execution_count": 12,
   "metadata": {},
   "outputs": [
    {
     "data": {
      "text/plain": [
       "538"
      ]
     },
     "execution_count": 12,
     "metadata": {},
     "output_type": "execute_result"
    }
   ],
   "source": [
    "for (r, c) in trailheads:\n",
    "    backtrack(r, c, 0, (r, c))\n",
    "\n",
    "res = 0\n",
    "for trailhead in trailheads:\n",
    "    res += len(trailheads[trailhead])\n",
    "res"
   ]
  },
  {
   "cell_type": "markdown",
   "metadata": {},
   "source": [
    "# Part 2"
   ]
  },
  {
   "cell_type": "code",
   "execution_count": 13,
   "metadata": {},
   "outputs": [
    {
     "data": {
      "text/plain": [
       "1110"
      ]
     },
     "execution_count": 13,
     "metadata": {},
     "output_type": "execute_result"
    }
   ],
   "source": [
    "res = 0\n",
    "for trailhead in trailheads:\n",
    "    for path in trailheads[trailhead]:\n",
    "        res += trailheads[trailhead][path]\n",
    "res"
   ]
  }
 ],
 "metadata": {
  "kernelspec": {
   "display_name": "base",
   "language": "python",
   "name": "python3"
  },
  "language_info": {
   "codemirror_mode": {
    "name": "ipython",
    "version": 3
   },
   "file_extension": ".py",
   "mimetype": "text/x-python",
   "name": "python",
   "nbconvert_exporter": "python",
   "pygments_lexer": "ipython3",
   "version": "3.12.4"
  }
 },
 "nbformat": 4,
 "nbformat_minor": 2
}
