{
 "cells": [
  {
   "cell_type": "code",
   "execution_count": 78,
   "metadata": {},
   "outputs": [],
   "source": [
    "with open('day16-p1.txt') as f:\n",
    "    lines = f.read()\n",
    "    grid = [list(line) for line in lines.strip().split('\\n')]\n",
    "    \n",
    "    for r in range(len(grid)):\n",
    "        for c in range(len(grid[r])):\n",
    "            if grid[r][c] == 'S':\n",
    "                start = (r, c)\n",
    "            elif grid[r][c] == 'E':\n",
    "                end = (r, c)\n",
    "    \n",
    "    start_dir = (0, 1)"
   ]
  },
  {
   "cell_type": "code",
   "execution_count": 79,
   "metadata": {},
   "outputs": [],
   "source": [
    "dirmap = {\n",
    "    (0, 1): [(1, 0), (-1, 0)],\n",
    "    (1, 0): [(0, -1), (0, 1)],\n",
    "    (0, -1): [(1, 0), (-1, 0)],\n",
    "    (-1, 0): [(0, -1), (0, 1)]\n",
    "}"
   ]
  },
  {
   "cell_type": "markdown",
   "metadata": {},
   "source": [
    "# Part 1 and 2"
   ]
  },
  {
   "cell_type": "code",
   "execution_count": 80,
   "metadata": {},
   "outputs": [],
   "source": [
    "def dfs_stack(grid, start, start_dir, end):\n",
    "    \n",
    "    dp = [[None for _ in range(len(grid[0]))] for _ in range(len(grid))]\n",
    "    stack = [(start[0], start[1], start_dir, 0, list(), 0)]\n",
    "\n",
    "    result = set()\n",
    "\n",
    "    while stack:\n",
    "        r, c, current_dir, score, visited, length = stack.pop()\n",
    "        \n",
    "        while len(visited) > length:\n",
    "            visited.pop()\n",
    "        \n",
    "        if grid[r][c] == '#' or (dp[r][c] is not None and dp[r][c] <= score):\n",
    "            if dp[r][c] == score and (r, c) in result:\n",
    "                result = result.union(set(visited))\n",
    "            continue\n",
    "        \n",
    "        visited.append((r, c))\n",
    "        \n",
    "        if grid[r][c] == 'E' and (dp[r][c] is None or score < dp[r][c]):\n",
    "            result = set(visited)\n",
    "        \n",
    "        dp[r][c] = score\n",
    "        \n",
    "            \n",
    "        stack.append((r + current_dir[0], c + current_dir[1], current_dir, score + 1, visited, length + 1))\n",
    "        \n",
    "        for new_dir in dirmap[current_dir]:\n",
    "            stack.append((r + new_dir[0], c  + new_dir[1], new_dir, score + 1001, visited, length + 1))\n",
    "    \n",
    "    return dp[end[0]][end[1]], len(result),\n",
    "    "
   ]
  },
  {
   "cell_type": "code",
   "execution_count": 81,
   "metadata": {},
   "outputs": [
    {
     "name": "stdout",
     "output_type": "stream",
     "text": [
      "Part 1: 75416\n",
      "Part 2: 476\n"
     ]
    }
   ],
   "source": [
    "for index, part in enumerate(dfs_stack(grid, start, start_dir, end)):\n",
    "    print(f'Part {index + 1}: {part}')"
   ]
  }
 ],
 "metadata": {
  "kernelspec": {
   "display_name": "base",
   "language": "python",
   "name": "python3"
  },
  "language_info": {
   "codemirror_mode": {
    "name": "ipython",
    "version": 3
   },
   "file_extension": ".py",
   "mimetype": "text/x-python",
   "name": "python",
   "nbconvert_exporter": "python",
   "pygments_lexer": "ipython3",
   "version": "3.12.2"
  }
 },
 "nbformat": 4,
 "nbformat_minor": 2
}
