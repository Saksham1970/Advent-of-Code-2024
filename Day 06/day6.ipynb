{
 "cells": [
  {
   "cell_type": "code",
   "execution_count": 96,
   "metadata": {},
   "outputs": [],
   "source": [
    "with open('day6.txt') as f:\n",
    "    lines = f.read()\n",
    "    grid = [list(line) for line in lines.strip().split('\\n')]\n"
   ]
  },
  {
   "cell_type": "code",
   "execution_count": 100,
   "metadata": {},
   "outputs": [
    {
     "data": {
      "text/plain": [
       "(45, 42)"
      ]
     },
     "execution_count": 100,
     "metadata": {},
     "output_type": "execute_result"
    }
   ],
   "source": [
    "for r in range(len(grid)):\n",
    "    for c in range(len(grid[0])):\n",
    "        if grid[r][c] == '^':\n",
    "            og_guard = (r, c)\n",
    "            grid[r][c] = '.'\n",
    "            \n",
    "guard = og_guard\n",
    "guard"
   ]
  },
  {
   "cell_type": "code",
   "execution_count": 101,
   "metadata": {},
   "outputs": [],
   "source": [
    "from collections import defaultdict\n",
    "\n",
    "curdir = (-1, 0)\n",
    "guardtiles = defaultdict(set)"
   ]
  },
  {
   "cell_type": "code",
   "execution_count": 102,
   "metadata": {},
   "outputs": [],
   "source": [
    "dir_corresp = {\n",
    "    (-1, 0): (0, 1),\n",
    "    (0, 1): (1, 0),\n",
    "    (1, 0): (0, -1),\n",
    "    (0, -1): (-1, 0)\n",
    "}"
   ]
  },
  {
   "cell_type": "markdown",
   "metadata": {},
   "source": [
    "# Part 1"
   ]
  },
  {
   "cell_type": "code",
   "execution_count": 103,
   "metadata": {},
   "outputs": [],
   "source": [
    "while curdir not in guardtiles[guard]:\n",
    "    guardtiles[guard].add(curdir)\n",
    "    \n",
    "    r, c = guard\n",
    "    r += curdir[0]\n",
    "    c += curdir[1]\n",
    "    guard = (r, c)\n",
    "    \n",
    "    if r < 0 or c < 0 or r >= len(grid) or c >= len(grid[0]):\n",
    "        break\n",
    "    \n",
    "    if grid[r][c] == '#':\n",
    "        r -= curdir[0]\n",
    "        c -= curdir[1]\n",
    "        guard = (r, c)\n",
    "        curdir = dir_corresp[curdir]    "
   ]
  },
  {
   "cell_type": "code",
   "execution_count": 104,
   "metadata": {},
   "outputs": [
    {
     "data": {
      "text/plain": [
       "4454"
      ]
     },
     "execution_count": 104,
     "metadata": {},
     "output_type": "execute_result"
    }
   ],
   "source": [
    "len(guardtiles)"
   ]
  },
  {
   "cell_type": "markdown",
   "metadata": {},
   "source": [
    "# Part 2"
   ]
  },
  {
   "cell_type": "code",
   "execution_count": null,
   "metadata": {},
   "outputs": [],
   "source": [
    "res = 0\n",
    "for tile in guardtiles:\n",
    "    if grid[tile[0]][tile[1]] != '.': print(tile)\n",
    "    \n",
    "    grid[tile[0]][tile[1]] = '#'\n",
    "    \n",
    "    guard = og_guard\n",
    "    curdir = (-1, 0)\n",
    "    \n",
    "    temp_guardtiles = defaultdict(set)\n",
    "    while curdir not in temp_guardtiles[guard]:\n",
    "        temp_guardtiles[guard].add(curdir)\n",
    "        \n",
    "        r, c = guard\n",
    "        r += curdir[0]\n",
    "        c += curdir[1]\n",
    "        guard = (r, c)\n",
    "        \n",
    "        if r < 0 or c < 0 or r >= len(grid) or c >= len(grid[0]):\n",
    "            grid[tile[0]][tile[1]] = '.' \n",
    "            break\n",
    "        \n",
    "        if grid[r][c] == '#':\n",
    "            r -= curdir[0]\n",
    "            c -= curdir[1]\n",
    "            guard = (r, c)\n",
    "            curdir = dir_corresp[curdir]   \n",
    "    else:\n",
    "        res += 1\n",
    "    \n",
    "    grid[tile[0]][tile[1]] = '.' "
   ]
  },
  {
   "cell_type": "code",
   "execution_count": 108,
   "metadata": {},
   "outputs": [
    {
     "data": {
      "text/plain": [
       "1503"
      ]
     },
     "execution_count": 108,
     "metadata": {},
     "output_type": "execute_result"
    }
   ],
   "source": [
    "res"
   ]
  }
 ],
 "metadata": {
  "kernelspec": {
   "display_name": "base",
   "language": "python",
   "name": "python3"
  },
  "language_info": {
   "codemirror_mode": {
    "name": "ipython",
    "version": 3
   },
   "file_extension": ".py",
   "mimetype": "text/x-python",
   "name": "python",
   "nbconvert_exporter": "python",
   "pygments_lexer": "ipython3",
   "version": "3.12.4"
  }
 },
 "nbformat": 4,
 "nbformat_minor": 2
}
