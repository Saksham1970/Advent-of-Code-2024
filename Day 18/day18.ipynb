{
 "cells": [
  {
   "cell_type": "code",
   "execution_count": 1,
   "metadata": {},
   "outputs": [],
   "source": [
    "with open('day18-p1.txt') as f:\n",
    "    lines = f.readlines()\n",
    "    corrupted = [[int(x) for x in line.split(',')] for line in lines]"
   ]
  },
  {
   "cell_type": "markdown",
   "metadata": {},
   "source": [
    "# Part 1"
   ]
  },
  {
   "cell_type": "code",
   "execution_count": 2,
   "metadata": {},
   "outputs": [],
   "source": [
    "grid = [['.' for _ in range(71)] for _ in range(71)]\n",
    "dp = [[float('inf') for _ in range(71)] for _ in range(71)]\n",
    "\n",
    "def best_path(n):\n",
    "    \n",
    "    for r in range(71):\n",
    "        for c in range(71):\n",
    "            grid[r][c] = '.'\n",
    "            dp[r][c] = float('inf')\n",
    "\n",
    "    for i in range(n):\n",
    "        r, c = corrupted[i]\n",
    "        grid[r][c] = '#'\n",
    "        \n",
    "    def dfs(r, c, value):\n",
    "        if r < 0 or r >= 71 or c < 0 or c >= 71 or grid[r][c] == '#' or value >= dp[r][c]:\n",
    "            return\n",
    "        \n",
    "        dp[r][c] = value\n",
    "        \n",
    "        dfs(r + 1, c, value + 1)\n",
    "        dfs(r - 1, c, value + 1)\n",
    "        dfs(r, c + 1, value + 1)\n",
    "        dfs(r, c - 1, value + 1)\n",
    "    \n",
    "    dfs(70, 70, 1)\n",
    "    \n",
    "    return dp[0][0] - 1"
   ]
  },
  {
   "cell_type": "code",
   "execution_count": 3,
   "metadata": {},
   "outputs": [
    {
     "data": {
      "text/plain": [
       "348"
      ]
     },
     "execution_count": 3,
     "metadata": {},
     "output_type": "execute_result"
    }
   ],
   "source": [
    "best_path(1024)"
   ]
  },
  {
   "cell_type": "markdown",
   "metadata": {},
   "source": [
    "# Part 2"
   ]
  },
  {
   "cell_type": "code",
   "execution_count": 4,
   "metadata": {},
   "outputs": [
    {
     "data": {
      "text/plain": [
       "[54, 44]"
      ]
     },
     "execution_count": 4,
     "metadata": {},
     "output_type": "execute_result"
    }
   ],
   "source": [
    "L = 1024\n",
    "R = len(corrupted)\n",
    "\n",
    "while L < R:\n",
    "    M = (L + R + 1) // 2\n",
    "    if best_path(M) < float('inf'):\n",
    "        L = M\n",
    "    else:\n",
    "        R = M - 1\n",
    "\n",
    "corrupted[L]"
   ]
  }
 ],
 "metadata": {
  "kernelspec": {
   "display_name": "base",
   "language": "python",
   "name": "python3"
  },
  "language_info": {
   "codemirror_mode": {
    "name": "ipython",
    "version": 3
   },
   "file_extension": ".py",
   "mimetype": "text/x-python",
   "name": "python",
   "nbconvert_exporter": "python",
   "pygments_lexer": "ipython3",
   "version": "3.12.2"
  }
 },
 "nbformat": 4,
 "nbformat_minor": 2
}
