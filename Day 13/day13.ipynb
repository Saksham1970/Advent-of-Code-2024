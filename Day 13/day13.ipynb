{
 "cells": [
  {
   "cell_type": "code",
   "execution_count": 10,
   "metadata": {},
   "outputs": [],
   "source": [
    "import re\n",
    "pattern = r\"\\+(?P<ax>[0-9]*).*\\+(?P<ay>[0-9]*)\\n.*\\+(?P<bx>[0-9]*).*\\+(?P<by>[0-9]*)\\n.*\\=(?P<tx>[0-9]*).*=(?P<ty>[0-9]*)\""
   ]
  },
  {
   "cell_type": "code",
   "execution_count": 11,
   "metadata": {},
   "outputs": [],
   "source": [
    "from pydantic import BaseModel\n",
    "\n",
    "class Machine(BaseModel):\n",
    "    ax: int\n",
    "    bx: int\n",
    "    tx: int\n",
    "    ay: int\n",
    "    by: int\n",
    "    ty: int\n",
    "    \n"
   ]
  },
  {
   "cell_type": "code",
   "execution_count": 12,
   "metadata": {},
   "outputs": [],
   "source": [
    "with open('day13.txt') as f:\n",
    "    data = f.read()\n",
    "    matches = re.finditer(pattern, data)\n",
    "    machines = [Machine(**match.groupdict()) for match in matches]"
   ]
  },
  {
   "cell_type": "markdown",
   "metadata": {},
   "source": [
    "# Part 1"
   ]
  },
  {
   "cell_type": "code",
   "execution_count": 13,
   "metadata": {},
   "outputs": [],
   "source": [
    "for machine in machines:\n",
    "    if machine.ax / machine.ay != machine.bx / machine.by:\n",
    "        # print(\"One Solution\")\n",
    "        continue\n",
    "    elif machine.tx / machine.ty == machine.bx / machine.by:\n",
    "        print(\"Infinite Solutions\")\n",
    "    else:\n",
    "        print(\"No Solution\")"
   ]
  },
  {
   "cell_type": "code",
   "execution_count": 15,
   "metadata": {},
   "outputs": [
    {
     "data": {
      "text/plain": [
       "25751.0"
      ]
     },
     "execution_count": 15,
     "metadata": {},
     "output_type": "execute_result"
    }
   ],
   "source": [
    "res = 0\n",
    "\n",
    "for machine in machines:\n",
    "    \n",
    "    # Cramer's Rule\n",
    "    d1 = machine.tx * machine.by - machine.bx * machine.ty\n",
    "    d2 = machine.ax * machine.ty - machine.tx * machine.ay\n",
    "    d = machine.ax * machine.by - machine.bx * machine.ay\n",
    "    t1 = d1/d\n",
    "    t2 = d2/d\n",
    "    \n",
    "    # If integer solution\n",
    "    if t1 == int(t1):\n",
    "        res += 3 * t1 + t2    \n",
    "\n",
    "res"
   ]
  },
  {
   "cell_type": "markdown",
   "metadata": {},
   "source": [
    "# Part 2"
   ]
  },
  {
   "cell_type": "code",
   "execution_count": 17,
   "metadata": {},
   "outputs": [],
   "source": [
    "for machine in machines:\n",
    "    machine.tx += 10000000000000\n",
    "    machine.ty += 10000000000000"
   ]
  },
  {
   "cell_type": "code",
   "execution_count": 18,
   "metadata": {},
   "outputs": [],
   "source": [
    "for machine in machines:\n",
    "    if machine.ax / machine.ay != machine.bx / machine.by:\n",
    "        # print(\"One Solution\")\n",
    "        continue\n",
    "    elif machine.tx / machine.ty == machine.bx / machine.by:\n",
    "        print(\"Infinite Solutions\")\n",
    "    else:\n",
    "        print(\"No Solution\")"
   ]
  },
  {
   "cell_type": "code",
   "execution_count": 19,
   "metadata": {},
   "outputs": [
    {
     "data": {
      "text/plain": [
       "108528956728655.0"
      ]
     },
     "execution_count": 19,
     "metadata": {},
     "output_type": "execute_result"
    }
   ],
   "source": [
    "res = 0\n",
    "\n",
    "for machine in machines:\n",
    "    \n",
    "    # Cramer's Rule\n",
    "    d1 = machine.tx * machine.by - machine.bx * machine.ty\n",
    "    d2 = machine.ax * machine.ty - machine.tx * machine.ay\n",
    "    d = machine.ax * machine.by - machine.bx * machine.ay\n",
    "    t1 = d1/d\n",
    "    t2 = d2/d\n",
    "    \n",
    "    # If integer solution\n",
    "    if t1 == int(t1):\n",
    "        res += 3 * t1 + t2    \n",
    "\n",
    "res"
   ]
  }
 ],
 "metadata": {
  "kernelspec": {
   "display_name": "base",
   "language": "python",
   "name": "python3"
  },
  "language_info": {
   "codemirror_mode": {
    "name": "ipython",
    "version": 3
   },
   "file_extension": ".py",
   "mimetype": "text/x-python",
   "name": "python",
   "nbconvert_exporter": "python",
   "pygments_lexer": "ipython3",
   "version": "3.12.4"
  }
 },
 "nbformat": 4,
 "nbformat_minor": 2
}
