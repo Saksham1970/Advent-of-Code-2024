{
 "cells": [
  {
   "cell_type": "code",
   "execution_count": 1,
   "metadata": {},
   "outputs": [],
   "source": [
    "with open('day9-p1.txt') as f:\n",
    "    data = f.read()\n",
    "    data = [int(x) for x in data]"
   ]
  },
  {
   "cell_type": "code",
   "execution_count": null,
   "metadata": {},
   "outputs": [],
   "source": [
    "def calculate_score(disk_index, amount, sector_id):\n",
    "    return sum(sector_id * i for i in range(disk_index, disk_index + amount))\n",
    "\n",
    "def solve_defrag(data, contiguous=False):\n",
    "    content = data.copy()\n",
    "    total_score = 0\n",
    "\n",
    "    # Process from right to left\n",
    "    for right_idx in range(len(content) - 1, -1, -2):\n",
    "        sector_id = right_idx // 2\n",
    "        data_amount = data[right_idx]\n",
    "        \n",
    "        # Find suitable empty space\n",
    "        for empty_idx in range(1, right_idx, 2):\n",
    "            if data_amount == 0: break    \n",
    "            \n",
    "            # Get the size of Contiguous empty space \n",
    "            if empty_idx + 1 < right_idx and content[empty_idx + 1] == 0: continue\n",
    "            empty_space = content[empty_idx]\n",
    "            current = empty_idx\n",
    "            while content[current - 1] == 0:\n",
    "                current -= 2\n",
    "                empty_space += content[current]\n",
    "            \n",
    "            if empty_space == 0: continue\n",
    "            if contiguous and empty_space < data_amount: continue\n",
    "            \n",
    "            disk_position = sum(content[:empty_idx])\n",
    "            fill_amount = min(data_amount, empty_space)\n",
    "            \n",
    "            # Fill the empty space\n",
    "            content[empty_idx - 1] += fill_amount\n",
    "            content[empty_idx] -= fill_amount\n",
    "            content[right_idx] -= fill_amount\n",
    "            data_amount -= fill_amount\n",
    "            \n",
    "            total_score += calculate_score(disk_position, fill_amount, sector_id)\n",
    "        \n",
    "        else:\n",
    "            disk_position = sum(content[:right_idx])\n",
    "            total_score += calculate_score(disk_position, data_amount, sector_id)\n",
    "            \n",
    "    return total_score"
   ]
  },
  {
   "cell_type": "markdown",
   "metadata": {},
   "source": [
    "# Part 1"
   ]
  },
  {
   "cell_type": "code",
   "execution_count": 3,
   "metadata": {},
   "outputs": [
    {
     "data": {
      "text/plain": [
       "6415184586041"
      ]
     },
     "execution_count": 3,
     "metadata": {},
     "output_type": "execute_result"
    }
   ],
   "source": [
    "solve_defrag(data, contiguous=False)"
   ]
  },
  {
   "cell_type": "markdown",
   "metadata": {},
   "source": [
    "# Part 2"
   ]
  },
  {
   "cell_type": "code",
   "execution_count": 4,
   "metadata": {},
   "outputs": [
    {
     "data": {
      "text/plain": [
       "6436819084274"
      ]
     },
     "execution_count": 4,
     "metadata": {},
     "output_type": "execute_result"
    }
   ],
   "source": [
    "solve_defrag(data, contiguous=True)"
   ]
  }
 ],
 "metadata": {
  "kernelspec": {
   "display_name": "base",
   "language": "python",
   "name": "python3"
  },
  "language_info": {
   "codemirror_mode": {
    "name": "ipython",
    "version": 3
   },
   "file_extension": ".py",
   "mimetype": "text/x-python",
   "name": "python",
   "nbconvert_exporter": "python",
   "pygments_lexer": "ipython3",
   "version": "3.12.2"
  }
 },
 "nbformat": 4,
 "nbformat_minor": 2
}
