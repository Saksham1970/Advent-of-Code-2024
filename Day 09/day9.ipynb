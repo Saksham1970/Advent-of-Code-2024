{
 "cells": [
  {
   "cell_type": "code",
   "execution_count": 51,
   "metadata": {},
   "outputs": [],
   "source": [
    "with open('day9-p1.txt') as f:\n",
    "    data = f.read()\n",
    "    data = [int(x) for x in data]"
   ]
  },
  {
   "cell_type": "markdown",
   "metadata": {},
   "source": [
    "# Part 1"
   ]
  },
  {
   "cell_type": "code",
   "execution_count": 36,
   "metadata": {},
   "outputs": [
    {
     "data": {
      "text/plain": [
       "6415184586041"
      ]
     },
     "execution_count": 36,
     "metadata": {},
     "output_type": "execute_result"
    }
   ],
   "source": [
    "content = data[:]\n",
    "\n",
    "res = 0\n",
    "curr_id = 0\n",
    "disk_index = 0\n",
    "\n",
    "right_index = len(content) - 1\n",
    "right_id = right_index // 2\n",
    "\n",
    "for index, num in enumerate(content):\n",
    "    \n",
    "    if index > right_index:\n",
    "        break\n",
    "    \n",
    "    if index % 2 == 0:\n",
    "        for i in range(disk_index, disk_index + num):\n",
    "            res += curr_id * i\n",
    "        disk_index += num\n",
    "        curr_id += 1\n",
    "    \n",
    "    else:\n",
    "        while content[index] > 0:\n",
    "            limit = min(content[index], content[right_index])\n",
    "            for i in range(disk_index, disk_index + limit):\n",
    "                res += right_id * i\n",
    "            disk_index += limit\n",
    "            content[index], content[right_index] = content[index] - limit, content[right_index] - limit\n",
    "            if content[right_index] == 0:\n",
    "                right_index -= 2\n",
    "                right_id -= 1\n",
    "            \n",
    "res"
   ]
  },
  {
   "cell_type": "markdown",
   "metadata": {},
   "source": [
    "# Part 2"
   ]
  },
  {
   "cell_type": "code",
   "execution_count": 52,
   "metadata": {},
   "outputs": [
    {
     "data": {
      "text/plain": [
       "6436819084274"
      ]
     },
     "execution_count": 52,
     "metadata": {},
     "output_type": "execute_result"
    }
   ],
   "source": [
    "content = data[:]\n",
    "\n",
    "res = 0\n",
    "right_index = len(data) - 1\n",
    "\n",
    "for right_index in range(len(content) - 1, -1, -2):\n",
    "    right_id = right_index // 2\n",
    "    disk_index = sum(content[:right_index])\n",
    "    \n",
    "    for empty_index in range(1, right_index, 2):    \n",
    "        if content[empty_index] >= data[right_index]:\n",
    "            disk_index = sum(content[:empty_index])\n",
    "            \n",
    "            # Paste\n",
    "            content[empty_index - 1] += content[right_index]\n",
    "            content[empty_index] -= content[right_index]\n",
    "            \n",
    "            # Cut\n",
    "            content[right_index - 1] += content[right_index]\n",
    "            content[right_index] = 0\n",
    "            \n",
    "            if right_index + 1 < len(content):\n",
    "                content[right_index + 1] += content[right_index - 1]\n",
    "                content[right_index - 1] = 0    \n",
    "            break\n",
    "        \n",
    "    res += right_id * sum(i for i in range(disk_index, disk_index + data[right_index]))\n",
    "    \n",
    "res        \n",
    "                        "
   ]
  }
 ],
 "metadata": {
  "kernelspec": {
   "display_name": "base",
   "language": "python",
   "name": "python3"
  },
  "language_info": {
   "codemirror_mode": {
    "name": "ipython",
    "version": 3
   },
   "file_extension": ".py",
   "mimetype": "text/x-python",
   "name": "python",
   "nbconvert_exporter": "python",
   "pygments_lexer": "ipython3",
   "version": "3.12.2"
  }
 },
 "nbformat": 4,
 "nbformat_minor": 2
}
