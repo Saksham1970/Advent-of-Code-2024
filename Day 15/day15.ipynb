{
 "cells": [
  {
   "cell_type": "code",
   "execution_count": 1,
   "metadata": {},
   "outputs": [],
   "source": [
    "with open('day15-grid.txt', 'r') as f:\n",
    "    grid = f.read().splitlines()\n",
    "    for i in range(len(grid)):\n",
    "        grid[i] = list(grid[i])\n",
    "        for j in range(len(grid[i])):\n",
    "            if grid[i][j] == '@':\n",
    "                robot = (i, j)\n",
    "\n",
    "with open('day15-moves.txt', 'r') as f:\n",
    "    moves = ''.join(f.read().splitlines())"
   ]
  },
  {
   "cell_type": "code",
   "execution_count": 2,
   "metadata": {},
   "outputs": [],
   "source": [
    "dirmap = {\n",
    "    '^': (-1, 0),\n",
    "    'v': (1, 0),\n",
    "    '<': (0, -1),\n",
    "    '>': (0, 1)\n",
    "}\n",
    "\n",
    "charmap = {\n",
    "    '.': ['.', '.'],\n",
    "    '#': ['#', '#'],\n",
    "    'O': ['[', ']'],\n",
    "    '@': ['@', '.']\n",
    "}\n"
   ]
  },
  {
   "cell_type": "markdown",
   "metadata": {},
   "source": [
    "# Part 1"
   ]
  },
  {
   "cell_type": "code",
   "execution_count": 3,
   "metadata": {},
   "outputs": [],
   "source": [
    "def shift(direction, grid, robot):\n",
    "    r, c = robot\n",
    "    dr, dc = direction\n",
    "    empty_space = None\n",
    "    \n",
    "    while True:    \n",
    "        r += dr\n",
    "        c += dc\n",
    "        if grid[r][c] == '#':\n",
    "            break\n",
    "        if grid[r][c] == '.':\n",
    "            empty_space = (r, c)\n",
    "            break\n",
    "\n",
    "    if empty_space:\n",
    "        r, c = empty_space\n",
    "        while True:\n",
    "            grid[r][c] = grid[r - dr][c - dc]\n",
    "            r -= dr\n",
    "            c -= dc\n",
    "            if (r, c) == robot:\n",
    "                grid[r][c] = '.'\n",
    "                robot = robot[0] + dr, robot[1] + dc\n",
    "                break\n",
    "    \n",
    "    return robot"
   ]
  },
  {
   "cell_type": "code",
   "execution_count": 4,
   "metadata": {},
   "outputs": [],
   "source": [
    "gridcpy = [row[:] for row in grid]\n",
    "curr_robot = robot\n",
    "\n",
    "for move in moves:\n",
    "    curr_robot = shift(dirmap[move], gridcpy, curr_robot)"
   ]
  },
  {
   "cell_type": "code",
   "execution_count": 5,
   "metadata": {},
   "outputs": [
    {
     "data": {
      "text/plain": [
       "1485257"
      ]
     },
     "execution_count": 5,
     "metadata": {},
     "output_type": "execute_result"
    }
   ],
   "source": [
    "res = 0\n",
    "for r in range(len(gridcpy)):\n",
    "    for c in range(len(gridcpy[r])):\n",
    "        if gridcpy[r][c] == 'O':\n",
    "            res += 100 * r + c\n",
    "res     "
   ]
  },
  {
   "cell_type": "markdown",
   "metadata": {},
   "source": [
    "# Part 2"
   ]
  },
  {
   "cell_type": "code",
   "execution_count": 6,
   "metadata": {},
   "outputs": [],
   "source": [
    "def stack_shift(direction, grid, robot):\n",
    "    dr, dc = direction\n",
    "    stack = [set([robot])]\n",
    "    \n",
    "    while True:\n",
    "        curr_layer = stack[-1]\n",
    "        next_layer = set()\n",
    "        \n",
    "        for r, c in curr_layer:\n",
    "            if grid[r + dr][c + dc] == '#':\n",
    "                return robot\n",
    "            elif grid[r + dr][c + dc] == '[':\n",
    "                next_layer.add((r + dr, c + dc))\n",
    "                next_layer.add((r + dr, c + dc + 1))\n",
    "            elif grid[r + dr][c + dc] == ']':\n",
    "                next_layer.add((r + dr, c + dc))\n",
    "                next_layer.add((r + dr, c + dc - 1))\n",
    "        \n",
    "        if len(next_layer) == 0:\n",
    "            break\n",
    "        \n",
    "        stack.append(next_layer)\n",
    "\n",
    "    for i in range(len(stack) - 1, -1, -1):\n",
    "        curr_layer = stack[i]\n",
    "        for r, c in curr_layer:\n",
    "            grid[r][c], grid[r + dr][c + dc] = grid[r + dr][c + dc], grid[r][c]\n",
    "    \n",
    "    return robot[0] + dr, robot[1] + dc"
   ]
  },
  {
   "cell_type": "code",
   "execution_count": 7,
   "metadata": {},
   "outputs": [],
   "source": [
    "gridcpy = []\n",
    "\n",
    "for row in grid:\n",
    "    rowcpy = []\n",
    "    for char in row:\n",
    "        rowcpy.extend(charmap[char])\n",
    "    gridcpy.append(rowcpy)\n",
    "\n",
    "for r in range(len(gridcpy)):\n",
    "    for c in range(len(gridcpy[r])):\n",
    "        if gridcpy[r][c] == '@':\n",
    "            curr_robot = (r, c)\n",
    "\n",
    "for move in moves:    \n",
    "    if move in '<>':\n",
    "        curr_robot = shift(dirmap[move], gridcpy, curr_robot)\n",
    "    else:\n",
    "        curr_robot = stack_shift(dirmap[move], gridcpy, curr_robot) \n"
   ]
  },
  {
   "cell_type": "code",
   "execution_count": 8,
   "metadata": {},
   "outputs": [
    {
     "data": {
      "text/plain": [
       "1475512"
      ]
     },
     "execution_count": 8,
     "metadata": {},
     "output_type": "execute_result"
    }
   ],
   "source": [
    "res = 0\n",
    "for r in range(len(gridcpy)):\n",
    "    for c in range(len(gridcpy[r])):\n",
    "        if gridcpy[r][c] == '[':\n",
    "            res += 100 * r + c\n",
    "res     "
   ]
  }
 ],
 "metadata": {
  "kernelspec": {
   "display_name": "base",
   "language": "python",
   "name": "python3"
  },
  "language_info": {
   "codemirror_mode": {
    "name": "ipython",
    "version": 3
   },
   "file_extension": ".py",
   "mimetype": "text/x-python",
   "name": "python",
   "nbconvert_exporter": "python",
   "pygments_lexer": "ipython3",
   "version": "3.12.2"
  }
 },
 "nbformat": 4,
 "nbformat_minor": 2
}
