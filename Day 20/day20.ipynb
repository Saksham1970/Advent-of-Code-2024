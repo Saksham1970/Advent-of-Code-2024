{
 "cells": [
  {
   "cell_type": "code",
   "execution_count": 1,
   "metadata": {},
   "outputs": [],
   "source": [
    "with open('day20.txt') as f:\n",
    "    lines = f.read()\n",
    "    grid = [list(line) for line in lines.strip().split('\\n')]\n",
    "    for r in range(len(grid)):\n",
    "        for c in range(len(grid[r])):\n",
    "            if grid[r][c] == 'S':\n",
    "                start = (r, c)\n",
    "            elif grid[r][c] == 'E':\n",
    "                end = (r, c)\n",
    "                \n",
    "grid[start[0]][start[1]] = '.'\n",
    "grid[end[0]][end[1]] = '.'"
   ]
  },
  {
   "cell_type": "code",
   "execution_count": 2,
   "metadata": {},
   "outputs": [],
   "source": [
    "coords = list()\n",
    "r, c = start\n",
    "directions = [(0, 1), (0, -1), (1, 0), (-1, 0)]\n",
    "has_next_move = True\n",
    "\n",
    "while has_next_move:\n",
    "    has_next_move = False\n",
    "    coords.append((r, c))\n",
    "    for dr, dc in directions:\n",
    "        nr, nc = r + dr, c + dc\n",
    "        if (nr, nc) not in coords and grid[nr][nc] == '.':\n",
    "            r, c = nr, nc\n",
    "            has_next_move = True\n",
    "            break"
   ]
  },
  {
   "cell_type": "code",
   "execution_count": 3,
   "metadata": {},
   "outputs": [],
   "source": [
    "coords_steps = {}\n",
    "for i, coord in enumerate(coords):\n",
    "    coords_steps[coord] = i"
   ]
  },
  {
   "cell_type": "code",
   "execution_count": 4,
   "metadata": {},
   "outputs": [],
   "source": [
    "def find_cheats(diff, moves):\n",
    "    candidates = []\n",
    "    for dr in range(-moves, moves + 1):\n",
    "        for dc in range(-moves, moves + 1):\n",
    "            if abs(dr) + abs(dc) > moves:\n",
    "                continue\n",
    "            candidates.append((dr, dc))\n",
    "    \n",
    "    res = 0\n",
    "    for r, c in coords:\n",
    "        for dr, dc in candidates:\n",
    "            nr, nc = r + dr, c + dc\n",
    "            if (nr, nc) in coords_steps and diff <= (coords_steps[(nr, nc)] - coords_steps[(r, c)] - abs(dr) - abs(dc)):\n",
    "                res += 1\n",
    "    return res                \n",
    "    "
   ]
  },
  {
   "cell_type": "markdown",
   "metadata": {},
   "source": [
    "# Part 1"
   ]
  },
  {
   "cell_type": "code",
   "execution_count": 5,
   "metadata": {},
   "outputs": [
    {
     "data": {
      "text/plain": [
       "1369"
      ]
     },
     "execution_count": 5,
     "metadata": {},
     "output_type": "execute_result"
    }
   ],
   "source": [
    "find_cheats(100, 2)"
   ]
  },
  {
   "cell_type": "markdown",
   "metadata": {},
   "source": [
    "# Part 2"
   ]
  },
  {
   "cell_type": "code",
   "execution_count": 6,
   "metadata": {},
   "outputs": [
    {
     "data": {
      "text/plain": [
       "979012"
      ]
     },
     "execution_count": 6,
     "metadata": {},
     "output_type": "execute_result"
    }
   ],
   "source": [
    "find_cheats(100, 20)"
   ]
  }
 ],
 "metadata": {
  "kernelspec": {
   "display_name": "base",
   "language": "python",
   "name": "python3"
  },
  "language_info": {
   "codemirror_mode": {
    "name": "ipython",
    "version": 3
   },
   "file_extension": ".py",
   "mimetype": "text/x-python",
   "name": "python",
   "nbconvert_exporter": "python",
   "pygments_lexer": "ipython3",
   "version": "3.12.4"
  }
 },
 "nbformat": 4,
 "nbformat_minor": 2
}
