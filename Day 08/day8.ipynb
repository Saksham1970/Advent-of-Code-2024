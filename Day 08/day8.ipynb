{
 "cells": [
  {
   "cell_type": "code",
   "execution_count": 12,
   "metadata": {},
   "outputs": [],
   "source": [
    "from collections import defaultdict\n",
    "\n",
    "with open('day8.txt') as f:\n",
    "    lines = f.read()\n",
    "    grid = [list(line) for line in lines.strip().split('\\n')]\n",
    "\n",
    "antennas = defaultdict(list)\n",
    "\n",
    "for r in range(len(grid)):\n",
    "    for c in range(len(grid[0])):\n",
    "        if grid[r][c] != '.':\n",
    "            antennas[grid[r][c]].append((r, c))"
   ]
  },
  {
   "cell_type": "markdown",
   "metadata": {},
   "source": [
    "# Part 1"
   ]
  },
  {
   "cell_type": "code",
   "execution_count": 13,
   "metadata": {},
   "outputs": [
    {
     "data": {
      "text/plain": [
       "361"
      ]
     },
     "execution_count": 13,
     "metadata": {},
     "output_type": "execute_result"
    }
   ],
   "source": [
    "from itertools import combinations\n",
    "\n",
    "res = set()\n",
    "\n",
    "for antenna in antennas:\n",
    "    locations = antennas[antenna]\n",
    "    for pair in combinations(locations, 2):\n",
    "        dist_r = pair[1][0] - pair[0][0]\n",
    "        dist_c = pair[1][1] - pair[0][1]\n",
    "        \n",
    "        coord_1 = (pair[1][0] + dist_r, pair[1][1] + dist_c)\n",
    "        coord_2 = (pair[0][0] - dist_r, pair[0][1] - dist_c)\n",
    "        \n",
    "        for r, c in {coord_1, coord_2}:\n",
    "            if r >= 0 and r < len(grid) and c >= 0 and c < len(grid[0]):\n",
    "                res.add((r, c))\n",
    "\n",
    "len(res)"
   ]
  },
  {
   "cell_type": "markdown",
   "metadata": {},
   "source": [
    "# Part 2"
   ]
  },
  {
   "cell_type": "code",
   "execution_count": 14,
   "metadata": {},
   "outputs": [
    {
     "data": {
      "text/plain": [
       "1249"
      ]
     },
     "execution_count": 14,
     "metadata": {},
     "output_type": "execute_result"
    }
   ],
   "source": [
    "from itertools import combinations\n",
    "\n",
    "res = set()\n",
    "\n",
    "for antenna in antennas:\n",
    "    locations = antennas[antenna]\n",
    "    for pair in combinations(locations, 2):\n",
    "        dist_r = pair[1][0] - pair[0][0]\n",
    "        dist_c = pair[1][1] - pair[0][1]\n",
    "        \n",
    "        r, c = pair[1]\n",
    "        while r >= 0 and r < len(grid) and c >= 0 and c < len(grid[0]):\n",
    "            res.add((r, c))\n",
    "            r, c = r + dist_r, c + dist_c\n",
    "        \n",
    "        r, c = pair[0]\n",
    "        while r >= 0 and r < len(grid) and c >= 0 and c < len(grid[0]):\n",
    "            res.add((r, c))\n",
    "            r, c = r - dist_r, c - dist_c    \n",
    "len(res)"
   ]
  }
 ],
 "metadata": {
  "kernelspec": {
   "display_name": "base",
   "language": "python",
   "name": "python3"
  },
  "language_info": {
   "codemirror_mode": {
    "name": "ipython",
    "version": 3
   },
   "file_extension": ".py",
   "mimetype": "text/x-python",
   "name": "python",
   "nbconvert_exporter": "python",
   "pygments_lexer": "ipython3",
   "version": "3.12.4"
  }
 },
 "nbformat": 4,
 "nbformat_minor": 2
}
