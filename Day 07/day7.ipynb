{
 "cells": [
  {
   "cell_type": "code",
   "execution_count": 5,
   "metadata": {},
   "outputs": [],
   "source": [
    "with open('day7.txt') as f:\n",
    "    tests = {}\n",
    "    lines = f.readlines()\n",
    "    for line in lines:\n",
    "        key, value = line.split(':')\n",
    "        key = int(key.strip())\n",
    "        value = list(map(int, value.strip().split()))\n",
    "        tests[key] = value\n"
   ]
  },
  {
   "cell_type": "markdown",
   "metadata": {},
   "source": [
    "# Part 1"
   ]
  },
  {
   "cell_type": "code",
   "execution_count": null,
   "metadata": {},
   "outputs": [
    {
     "data": {
      "text/plain": [
       "66343330034722"
      ]
     },
     "execution_count": 9,
     "metadata": {},
     "output_type": "execute_result"
    }
   ],
   "source": [
    "def backtrack(numbers, i, currval, target):\n",
    "    if currval > target:\n",
    "        return False\n",
    "    \n",
    "    if i == len(numbers):\n",
    "        return currval == target\n",
    "    \n",
    "    return (backtrack(numbers, i+1, currval + numbers[i], target) or\n",
    "            backtrack(numbers, i+1, currval * numbers[i], target))\n",
    "\n",
    "\n",
    "res = sum(test for test in tests if backtrack(tests[test], 1, tests[test][0], test))\n",
    "res"
   ]
  },
  {
   "cell_type": "markdown",
   "metadata": {},
   "source": [
    "# Part 2"
   ]
  },
  {
   "cell_type": "code",
   "execution_count": null,
   "metadata": {},
   "outputs": [
    {
     "data": {
      "text/plain": [
       "637696070419031"
      ]
     },
     "execution_count": 8,
     "metadata": {},
     "output_type": "execute_result"
    }
   ],
   "source": [
    "def backtrack(numbers, i, currval, target):\n",
    "    \n",
    "    if currval > target:\n",
    "        return False\n",
    "    \n",
    "    if i == len(numbers):\n",
    "        return currval == target\n",
    "    \n",
    "    return (backtrack(numbers, i+1, currval + numbers[i], target) or \n",
    "            backtrack(numbers, i+1, currval * numbers[i], target) or \n",
    "            backtrack(numbers, i+1, int(str(currval) + str(numbers[i])), target))\n",
    "\n",
    "\n",
    "res = sum(test for test in tests if backtrack(tests[test], 1, tests[test][0], test))\n",
    "res"
   ]
  }
 ],
 "metadata": {
  "kernelspec": {
   "display_name": "base",
   "language": "python",
   "name": "python3"
  },
  "language_info": {
   "codemirror_mode": {
    "name": "ipython",
    "version": 3
   },
   "file_extension": ".py",
   "mimetype": "text/x-python",
   "name": "python",
   "nbconvert_exporter": "python",
   "pygments_lexer": "ipython3",
   "version": "3.12.4"
  }
 },
 "nbformat": 4,
 "nbformat_minor": 2
}
