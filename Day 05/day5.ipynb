{
 "cells": [
  {
   "cell_type": "code",
   "execution_count": 2,
   "metadata": {},
   "outputs": [],
   "source": [
    "from collections import defaultdict\n",
    "\n",
    "with open('day5-rules.txt') as f:\n",
    "    lines = f.readlines()\n",
    "    rules = defaultdict(list)\n",
    "    \n",
    "    for line in lines:\n",
    "        key, value = line.split('|')\n",
    "        key, value = int(key), int(value)\n",
    "        rules[key].append(value)\n",
    "        \n",
    "with open('day5-updates.txt') as f:\n",
    "    lines = f.readlines()\n",
    "    updates = []\n",
    "    \n",
    "    for line in lines:\n",
    "        updates.append(list(map(int, line.split(','))))"
   ]
  },
  {
   "cell_type": "code",
   "execution_count": 6,
   "metadata": {},
   "outputs": [],
   "source": [
    "def compare(item1, itemb):\n",
    "    if item1 in rules[itemb]:\n",
    "        return 1\n",
    "    return -1\n",
    "\n",
    "def is_sorted(arr, compare):\n",
    "    return all(compare(arr[i], arr[i + 1]) <= 0 for i in range(len(arr) - 1))\n"
   ]
  },
  {
   "cell_type": "markdown",
   "metadata": {},
   "source": [
    "# Part 1"
   ]
  },
  {
   "cell_type": "code",
   "execution_count": 7,
   "metadata": {},
   "outputs": [
    {
     "data": {
      "text/plain": [
       "5091"
      ]
     },
     "execution_count": 7,
     "metadata": {},
     "output_type": "execute_result"
    }
   ],
   "source": [
    "res = sum(update[len(update)//2] \n",
    "         for update in updates \n",
    "         if is_sorted(update, compare))\n",
    "\n",
    "res"
   ]
  },
  {
   "cell_type": "markdown",
   "metadata": {},
   "source": [
    "# Part 2"
   ]
  },
  {
   "cell_type": "code",
   "execution_count": null,
   "metadata": {},
   "outputs": [
    {
     "data": {
      "text/plain": [
       "4681"
      ]
     },
     "execution_count": 8,
     "metadata": {},
     "output_type": "execute_result"
    }
   ],
   "source": [
    "from functools import cmp_to_key\n",
    "\n",
    "res = sum(\n",
    "    sorted(update, key=cmp_to_key(compare))[len(update)//2]\n",
    "    for update in updates\n",
    "    if not is_sorted(update, compare)\n",
    ")\n",
    "\n",
    "res"
   ]
  },
  {
   "cell_type": "code",
   "execution_count": null,
   "metadata": {},
   "outputs": [],
   "source": []
  }
 ],
 "metadata": {
  "kernelspec": {
   "display_name": "base",
   "language": "python",
   "name": "python3"
  },
  "language_info": {
   "codemirror_mode": {
    "name": "ipython",
    "version": 3
   },
   "file_extension": ".py",
   "mimetype": "text/x-python",
   "name": "python",
   "nbconvert_exporter": "python",
   "pygments_lexer": "ipython3",
   "version": "3.12.2"
  }
 },
 "nbformat": 4,
 "nbformat_minor": 2
}
