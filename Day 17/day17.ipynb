{
 "cells": [
  {
   "cell_type": "code",
   "execution_count": 29,
   "metadata": {},
   "outputs": [],
   "source": [
    "import re\n",
    "pattern = r\":(?P<A>.*)\\n.*:(?P<B>.*)\\n.*:(?P<C>.*)\\n\\n.*:(?P<Program>.*)\""
   ]
  },
  {
   "cell_type": "code",
   "execution_count": 11,
   "metadata": {},
   "outputs": [
    {
     "data": {
      "text/plain": [
       "(25986278, 0, 0, [2, 4, 1, 4, 7, 5, 4, 1, 1, 4, 5, 5, 0, 3, 3, 0])"
      ]
     },
     "execution_count": 11,
     "metadata": {},
     "output_type": "execute_result"
    }
   ],
   "source": [
    "with open('day17-p1.txt') as f:\n",
    "    lines = f.read()\n",
    "    for matches in re.finditer(pattern, lines):\n",
    "        A = int(matches.group('A'))\n",
    "        B = int(matches.group('B'))\n",
    "        C = int(matches.group('C'))\n",
    "        program = [int(x) for x in matches.group('Program').split(',')]\n",
    "\n",
    "A, B, C, program"
   ]
  },
  {
   "cell_type": "markdown",
   "metadata": {},
   "source": [
    "# Part 1"
   ]
  },
  {
   "cell_type": "code",
   "execution_count": 34,
   "metadata": {},
   "outputs": [],
   "source": [
    "def run(program, A, B, C):    \n",
    "    ins_ptr = 0\n",
    "    output = []\n",
    "\n",
    "    def combo_value(num):\n",
    "        match num:\n",
    "            case num if num < 4:\n",
    "                return num\n",
    "            case 4:\n",
    "                return A\n",
    "            case 5:\n",
    "                return B\n",
    "            case 6:\n",
    "                return C\n",
    "            case _:\n",
    "                raise ValueError(f\"Invalid value {num}\")\n",
    "            \n",
    "    while ins_ptr < len(program):\n",
    "        opcode = program[ins_ptr]\n",
    "        literal = program[ins_ptr + 1]\n",
    "    \n",
    "        match opcode:\n",
    "            case 0:\n",
    "                A = A // (2 ** combo_value(literal))\n",
    "            \n",
    "            case 1:\n",
    "                B = B ^ literal\n",
    "            \n",
    "            case 2:\n",
    "                B = combo_value(literal) % 8\n",
    "            \n",
    "            case 3:\n",
    "                if A != 0:\n",
    "                    ins_ptr = literal\n",
    "                    continue\n",
    "            \n",
    "            case 4:\n",
    "                B = B ^ C\n",
    "            \n",
    "            case 5:\n",
    "                output.append(combo_value(literal) % 8)\n",
    "            \n",
    "            case 6:\n",
    "                B = A // (2 ** combo_value(literal))\n",
    "            \n",
    "            case 7:\n",
    "                C = A // (2 ** combo_value(literal))    \n",
    "        \n",
    "        ins_ptr += 2\n",
    "\n",
    "    return output"
   ]
  },
  {
   "cell_type": "code",
   "execution_count": 13,
   "metadata": {},
   "outputs": [
    {
     "name": "stdout",
     "output_type": "stream",
     "text": [
      "7,0,7,3,4,1,3,0,1\n"
     ]
    }
   ],
   "source": [
    "output = run(program, A, B, C)\n",
    "print(','.join(map(str, output)))"
   ]
  },
  {
   "cell_type": "markdown",
   "metadata": {},
   "source": [
    "# Part 2"
   ]
  },
  {
   "cell_type": "code",
   "execution_count": 42,
   "metadata": {},
   "outputs": [],
   "source": [
    "from collections import defaultdict\n",
    "\n",
    "output_maps = defaultdict(list)\n",
    "for i in range(1024):\n",
    "    output = run(program[:-2], i, 0, 0)\n",
    "    output_maps[output[0]].append(i)"
   ]
  },
  {
   "cell_type": "code",
   "execution_count": 46,
   "metadata": {},
   "outputs": [],
   "source": [
    "B_C_pairs = defaultdict(set)\n",
    "\n",
    "for key in output_maps:\n",
    "    for num in output_maps[key]:\n",
    "        B = num % 8\n",
    "        C = (num // (2 ** (B ^ 4))) % 8\n",
    "        B_C_pairs[key].add((B, C))"
   ]
  },
  {
   "cell_type": "code",
   "execution_count": 48,
   "metadata": {},
   "outputs": [],
   "source": [
    "bit_strings = {\n",
    "    0: '000',\n",
    "    1: '001',\n",
    "    2: '010',\n",
    "    3: '011',\n",
    "    4: '100',\n",
    "    5: '101',\n",
    "    6: '110',\n",
    "    7: '111'\n",
    "}"
   ]
  },
  {
   "cell_type": "code",
   "execution_count": 59,
   "metadata": {},
   "outputs": [],
   "source": [
    "def backtracking(ind, curr):\n",
    "    num = program[ind]\n",
    "    res = []\n",
    "    for B, C in B_C_pairs[num]:\n",
    "        bitB, bitC = bit_strings[B], bit_strings[C]\n",
    "        currcpy = curr.copy()\n",
    "        skip = False\n",
    "        \n",
    "        sind = -(ind + 1) * 3\n",
    "        for i in range(3):\n",
    "            if currcpy[sind + i] == '.' or currcpy[sind + i] == bitB[i]:\n",
    "                currcpy[sind + i] = bitB[i]\n",
    "            else:\n",
    "                skip = True\n",
    "        \n",
    "        sind = -(ind + 1) * 3 - (B ^ 4)\n",
    "        for i in range(3):\n",
    "            if -(sind + i) <= len(currcpy) and (currcpy[sind + i] == '.' or currcpy[sind + i] == bitC[i]):\n",
    "                currcpy[sind + i] = bitC[i]\n",
    "            else:\n",
    "                if -(sind + i) > len(currcpy) and C == 0:\n",
    "                    break    \n",
    "                skip = True\n",
    "        \n",
    "        if skip:\n",
    "            del currcpy\n",
    "            continue\n",
    "        \n",
    "        if ind != len(program) - 1:\n",
    "            res.extend(backtracking(ind + 1, currcpy))\n",
    "        else:\n",
    "            res.append(currcpy)\n",
    "    return res\n",
    "        "
   ]
  },
  {
   "cell_type": "code",
   "execution_count": 18,
   "metadata": {},
   "outputs": [
    {
     "data": {
      "text/plain": [
       "16247842866690"
      ]
     },
     "execution_count": 18,
     "metadata": {},
     "output_type": "execute_result"
    }
   ],
   "source": [
    "res = backtracking(0, ['.' for _ in range(48)])\n",
    "res = [int(''.join(x), 2) for x in res]\n",
    "min(res)"
   ]
  },
  {
   "cell_type": "code",
   "execution_count": 26,
   "metadata": {},
   "outputs": [
    {
     "data": {
      "text/plain": [
       "[2, 4, 1, 4, 7, 5, 4, 1, 1, 4, 5, 5, 0, 3, 3, 0]"
      ]
     },
     "execution_count": 26,
     "metadata": {},
     "output_type": "execute_result"
    }
   ],
   "source": [
    "run(program, 156985331222018, 0, 0)"
   ]
  }
 ],
 "metadata": {
  "kernelspec": {
   "display_name": "base",
   "language": "python",
   "name": "python3"
  },
  "language_info": {
   "codemirror_mode": {
    "name": "ipython",
    "version": 3
   },
   "file_extension": ".py",
   "mimetype": "text/x-python",
   "name": "python",
   "nbconvert_exporter": "python",
   "pygments_lexer": "ipython3",
   "version": "3.12.2"
  }
 },
 "nbformat": 4,
 "nbformat_minor": 2
}
