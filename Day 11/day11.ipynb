{
 "cells": [
  {
   "cell_type": "code",
   "execution_count": 1,
   "metadata": {},
   "outputs": [],
   "source": [
    "from collections import deque\n",
    "\n",
    "with open('day11.txt') as f:\n",
    "    line = f.read()\n",
    "    line = [int(x) for x in line.strip().split(' ')]"
   ]
  },
  {
   "cell_type": "code",
   "execution_count": 2,
   "metadata": {},
   "outputs": [],
   "source": [
    "from collections import defaultdict\n",
    "\n",
    "hyperlens = defaultdict(lambda: defaultdict(int))\n",
    "graph = dict()"
   ]
  },
  {
   "cell_type": "code",
   "execution_count": 3,
   "metadata": {},
   "outputs": [],
   "source": [
    "def get_successors(number):\n",
    "    if number == 0:\n",
    "        successors = [1]\n",
    "    elif len(stone_str := str(number)) % 2 == 0:\n",
    "        successors = [int(stone_str[:len(stone_str)//2]), int(stone_str[len(stone_str)//2:])]\n",
    "    else:\n",
    "        successors = [2024 * number]\n",
    "    return successors"
   ]
  },
  {
   "cell_type": "code",
   "execution_count": 4,
   "metadata": {},
   "outputs": [],
   "source": [
    "successors = deque(line)\n",
    "graph = {}\n",
    "\n",
    "while successors:\n",
    "    successor = successors.popleft()\n",
    "    if successor not in graph:\n",
    "        graph[successor] = get_successors(successor)\n",
    "        hyperlens[1][successor] = len(graph[successor])\n",
    "        successors.extend(graph[successor])        "
   ]
  },
  {
   "cell_type": "code",
   "execution_count": 5,
   "metadata": {},
   "outputs": [],
   "source": [
    "def get_depth_count(n, number):\n",
    "    if number in hyperlens[n]:\n",
    "        return hyperlens[n][number]\n",
    "    \n",
    "    for successor in graph[number]:\n",
    "        hyperlens[n][number] += get_depth_count(n - 1, successor)\n",
    "    return hyperlens[n][number]"
   ]
  },
  {
   "cell_type": "markdown",
   "metadata": {},
   "source": [
    "# Part 1"
   ]
  },
  {
   "cell_type": "code",
   "execution_count": 6,
   "metadata": {},
   "outputs": [
    {
     "data": {
      "text/plain": [
       "198089"
      ]
     },
     "execution_count": 6,
     "metadata": {},
     "output_type": "execute_result"
    }
   ],
   "source": [
    "res = 0\n",
    "for stone in line:\n",
    "    res += get_depth_count(25, stone)\n",
    "res"
   ]
  },
  {
   "cell_type": "markdown",
   "metadata": {},
   "source": [
    "# Part 2"
   ]
  },
  {
   "cell_type": "code",
   "execution_count": 7,
   "metadata": {},
   "outputs": [
    {
     "data": {
      "text/plain": [
       "236302670835517"
      ]
     },
     "execution_count": 7,
     "metadata": {},
     "output_type": "execute_result"
    }
   ],
   "source": [
    "res = 0\n",
    "for stone in line:\n",
    "    res += get_depth_count(75, stone)\n",
    "res"
   ]
  }
 ],
 "metadata": {
  "kernelspec": {
   "display_name": "base",
   "language": "python",
   "name": "python3"
  },
  "language_info": {
   "codemirror_mode": {
    "name": "ipython",
    "version": 3
   },
   "file_extension": ".py",
   "mimetype": "text/x-python",
   "name": "python",
   "nbconvert_exporter": "python",
   "pygments_lexer": "ipython3",
   "version": "3.12.4"
  }
 },
 "nbformat": 4,
 "nbformat_minor": 2
}
