{
 "cells": [
  {
   "cell_type": "code",
   "execution_count": 1,
   "metadata": {},
   "outputs": [],
   "source": [
    "with open('day22.txt') as f:\n",
    "    nums = f.read().strip().split('\\n')\n",
    "    nums = [int(num) for num in nums]"
   ]
  },
  {
   "cell_type": "code",
   "execution_count": 2,
   "metadata": {},
   "outputs": [],
   "source": [
    "from functools import cache\n",
    "\n",
    "def mix_and_prune(secret, value):\n",
    "    mix = secret ^ value\n",
    "    prune = mix % 16777216\n",
    "    return prune\n",
    "\n",
    "\n",
    "@cache\n",
    "def pseudorandom(secret):\n",
    "    value1 = secret * 64\n",
    "    secret = mix_and_prune(secret, value1)\n",
    "    \n",
    "    value2 = secret // 32\n",
    "    secret = mix_and_prune(secret, value2)\n",
    "    \n",
    "    value3 = secret * 2048\n",
    "    secret = mix_and_prune(secret, value3)\n",
    "    \n",
    "    return secret"
   ]
  },
  {
   "cell_type": "markdown",
   "metadata": {},
   "source": [
    "# Part 1"
   ]
  },
  {
   "cell_type": "code",
   "execution_count": 3,
   "metadata": {},
   "outputs": [
    {
     "data": {
      "text/plain": [
       "18525593556"
      ]
     },
     "execution_count": 3,
     "metadata": {},
     "output_type": "execute_result"
    }
   ],
   "source": [
    "from collections import deque, defaultdict\n",
    "\n",
    "res = 0\n",
    "sequences = {}\n",
    "for num in nums:\n",
    "    secret = num\n",
    "    seq_values = defaultdict(int)\n",
    "    sequence = deque()\n",
    "    for i in range(2000):\n",
    "        next_secret = pseudorandom(secret)\n",
    "        next_secret_last, secret_last = int(str(next_secret)[-1]), int(str(secret)[-1])\n",
    "        sequence.append(next_secret_last - secret_last)\n",
    "\n",
    "        if len(sequence) > 4:\n",
    "            sequence.popleft()\n",
    "        \n",
    "        if len(sequence) == 4 and tuple(sequence) not in seq_values:\n",
    "            seq_values[tuple(sequence)] = next_secret_last\n",
    "        \n",
    "        secret = next_secret\n",
    "    sequences[num] = seq_values\n",
    "    res += secret\n",
    "res"
   ]
  },
  {
   "cell_type": "markdown",
   "metadata": {},
   "source": [
    "# Part 2"
   ]
  },
  {
   "cell_type": "code",
   "execution_count": 4,
   "metadata": {},
   "outputs": [],
   "source": [
    "combined_values = defaultdict(int)\n",
    "for num in nums:\n",
    "    for key, value in sequences[num].items():\n",
    "        combined_values[key] += value"
   ]
  },
  {
   "cell_type": "code",
   "execution_count": 5,
   "metadata": {},
   "outputs": [
    {
     "data": {
      "text/plain": [
       "2089"
      ]
     },
     "execution_count": 5,
     "metadata": {},
     "output_type": "execute_result"
    }
   ],
   "source": [
    "combined_values[max(combined_values, key=combined_values.get)]"
   ]
  }
 ],
 "metadata": {
  "kernelspec": {
   "display_name": "base",
   "language": "python",
   "name": "python3"
  },
  "language_info": {
   "codemirror_mode": {
    "name": "ipython",
    "version": 3
   },
   "file_extension": ".py",
   "mimetype": "text/x-python",
   "name": "python",
   "nbconvert_exporter": "python",
   "pygments_lexer": "ipython3",
   "version": "3.12.2"
  }
 },
 "nbformat": 4,
 "nbformat_minor": 2
}
