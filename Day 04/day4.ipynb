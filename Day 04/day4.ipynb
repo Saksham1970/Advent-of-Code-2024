{
 "cells": [
  {
   "cell_type": "code",
   "execution_count": 5,
   "metadata": {},
   "outputs": [],
   "source": [
    "with open('day4.txt') as f:\n",
    "    lines = f.read()\n",
    "    grid = [list(line) for line in lines.strip().split('\\n')]\n"
   ]
  },
  {
   "cell_type": "markdown",
   "metadata": {},
   "source": [
    "# Part 1"
   ]
  },
  {
   "cell_type": "code",
   "execution_count": 7,
   "metadata": {},
   "outputs": [
    {
     "data": {
      "text/plain": [
       "2718"
      ]
     },
     "execution_count": 7,
     "metadata": {},
     "output_type": "execute_result"
    }
   ],
   "source": [
    "res = 0\n",
    "for r in range(len(grid)):\n",
    "    for c in range(len(grid[0])):\n",
    "        for dir in [(0, 1), (1, 0), (0, -1), (-1, 0), (1, 1), (-1, -1), (1, -1), (-1, 1)]:\n",
    "            row, col = r, c\n",
    "            for char in \"XMAS\":\n",
    "                if row < 0 or row >= len(grid) or col < 0 or col >= len(grid[0]) or grid[row][col] != char:\n",
    "                    break\n",
    "                row += dir[0]\n",
    "                col += dir[1]\n",
    "            else:\n",
    "                res += 1\n",
    "res         "
   ]
  },
  {
   "cell_type": "markdown",
   "metadata": {},
   "source": [
    "# Part 2"
   ]
  },
  {
   "cell_type": "code",
   "execution_count": 8,
   "metadata": {},
   "outputs": [
    {
     "data": {
      "text/plain": [
       "2046"
      ]
     },
     "execution_count": 8,
     "metadata": {},
     "output_type": "execute_result"
    }
   ],
   "source": [
    "res = 0\n",
    "for r in range(1, len(grid) - 1):\n",
    "    for c in range(1, len(grid[0]) - 1):\n",
    "        if grid[r][c] == 'A':\n",
    "            top_left = grid[r - 1][c - 1]\n",
    "            top_right = grid[r - 1][c + 1]\n",
    "            bottom_left = grid[r + 1][c - 1]\n",
    "            bottom_right = grid[r + 1][c + 1]\n",
    "            \n",
    "            if set([top_left, bottom_right]) == {'M', 'S'} and set([top_right, bottom_left]) == {'M', 'S'}:\n",
    "                res += 1\n",
    "res\n",
    "        "
   ]
  }
 ],
 "metadata": {
  "kernelspec": {
   "display_name": "base",
   "language": "python",
   "name": "python3"
  },
  "language_info": {
   "codemirror_mode": {
    "name": "ipython",
    "version": 3
   },
   "file_extension": ".py",
   "mimetype": "text/x-python",
   "name": "python",
   "nbconvert_exporter": "python",
   "pygments_lexer": "ipython3",
   "version": "3.12.4"
  }
 },
 "nbformat": 4,
 "nbformat_minor": 2
}
