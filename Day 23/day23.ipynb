{
 "cells": [
  {
   "cell_type": "code",
   "execution_count": 1,
   "metadata": {},
   "outputs": [],
   "source": [
    "from collections import defaultdict, deque\n",
    "\n",
    "with open('day23.txt') as f:\n",
    "    pairs = f.read().strip().split('\\n')\n",
    "    pairs = [pair.split('-') for pair in pairs]\n",
    "    \n",
    "    graph = defaultdict(set)\n",
    "    hist_comps = set()\n",
    "    \n",
    "    for node, neigh in pairs:\n",
    "        graph[node].add(neigh)\n",
    "        graph[neigh].add(node)\n",
    "        if node.startswith('t'): hist_comps.add(node)\n",
    "        if neigh.startswith('t'): hist_comps.add(neigh)"
   ]
  },
  {
   "cell_type": "markdown",
   "metadata": {},
   "source": [
    "# Part 1"
   ]
  },
  {
   "cell_type": "code",
   "execution_count": 2,
   "metadata": {},
   "outputs": [
    {
     "name": "stdout",
     "output_type": "stream",
     "text": [
      "1284\n"
     ]
    }
   ],
   "source": [
    "three_inter = set()\n",
    "graph = {k: list(v) for k, v in graph.items()}\n",
    "for node in hist_comps:\n",
    "    for i in range(len(graph[node])):\n",
    "        for j in range(i + 1, len(graph[node])):\n",
    "            if graph[node][j] in  graph[graph[node][i]]:\n",
    "                three_inter.add(tuple(sorted((node, graph[node][i], graph[node][j]))))\n",
    "print(len(three_inter))"
   ]
  },
  {
   "cell_type": "markdown",
   "metadata": {},
   "source": [
    "# Part 2"
   ]
  },
  {
   "cell_type": "code",
   "execution_count": 3,
   "metadata": {},
   "outputs": [
    {
     "name": "stdout",
     "output_type": "stream",
     "text": [
      "bv,cm,dk,em,gs,jv,ml,oy,qj,ri,uo,xk,yw\n"
     ]
    }
   ],
   "source": [
    "queue = deque([(key,) for key in graph.keys()])\n",
    "queue_set = set(queue)\n",
    "\n",
    "while queue:\n",
    "    nodes = queue.popleft()\n",
    "    for neigh in graph[nodes[0]]:\n",
    "        for node in nodes:\n",
    "            if neigh not in graph[node]:\n",
    "                break\n",
    "        else:\n",
    "            next_nodes = tuple(sorted(nodes + (neigh,)))\n",
    "            if next_nodes not in queue_set:\n",
    "                queue.append(next_nodes)\n",
    "                queue_set.add(next_nodes)  \n",
    "print(','.join(nodes))"
   ]
  }
 ],
 "metadata": {
  "kernelspec": {
   "display_name": "base",
   "language": "python",
   "name": "python3"
  },
  "language_info": {
   "codemirror_mode": {
    "name": "ipython",
    "version": 3
   },
   "file_extension": ".py",
   "mimetype": "text/x-python",
   "name": "python",
   "nbconvert_exporter": "python",
   "pygments_lexer": "ipython3",
   "version": "3.12.2"
  }
 },
 "nbformat": 4,
 "nbformat_minor": 2
}
