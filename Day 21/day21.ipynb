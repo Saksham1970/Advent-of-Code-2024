{
 "cells": [
  {
   "cell_type": "code",
   "execution_count": 1,
   "metadata": {},
   "outputs": [],
   "source": [
    "with open('day21.txt') as f:\n",
    "    codes = f.read().strip().split('\\n')"
   ]
  },
  {
   "cell_type": "code",
   "execution_count": 2,
   "metadata": {},
   "outputs": [],
   "source": [
    "numeric_pad = [['7', '8', '9'],\n",
    "               ['4', '5', '6'],\n",
    "               ['1', '2', '3'],\n",
    "               ['N', '0', 'A']]\n",
    "\n",
    "\n",
    "directional_pad = [['N', '^', 'A'],\n",
    "                   ['<', 'v', '>']]\n",
    "\n",
    "direction_maps = {\n",
    "    (-1, 0): '^',\n",
    "    (1, 0): 'v',\n",
    "    (0, -1): '<',\n",
    "    (0, 1): '>'\n",
    "}"
   ]
  },
  {
   "cell_type": "code",
   "execution_count": 3,
   "metadata": {},
   "outputs": [],
   "source": [
    "from collections import deque\n",
    "from itertools import permutations\n",
    "from collections import defaultdict, Counter\n",
    "\n",
    "def bfs(start, pad, commands):\n",
    "    queue = deque([(start[0], start[1], '')])\n",
    "    visited = set()\n",
    "    \n",
    "    while queue:\n",
    "        r, c, path = queue.popleft()\n",
    "        command = pad[start[0]][start[1]] + pad[r][c]\n",
    "        if command not in commands: commands[command] = path\n",
    "        visited.add((r, c))\n",
    "        \n",
    "        for dr, dc in direction_maps:\n",
    "            nr, nc = r + dr, c + dc\n",
    "            if 0 <= nr < len(pad) and 0 <= nc < len(pad[0]) and (nr, nc) not in visited:\n",
    "                queue.append((nr, nc, path + direction_maps[(dr, dc)]))\n",
    "                \n",
    "def get_commands(pad):\n",
    "    commands = {}\n",
    "    for r in range(len(pad)):\n",
    "        for c in range(len(pad[0])):\n",
    "            bfs((r, c), pad, commands)\n",
    "    return commands\n",
    "\n",
    "def get_permutations(commands):\n",
    "    p_commands = defaultdict(list)\n",
    "    for command in commands:\n",
    "        if 'N' in command: continue\n",
    "        for dir_code in permutations(commands[command]):\n",
    "            dead_command = commands[command[0] + 'N']\n",
    "            if Counter(dir_code[:len(dead_command)]) == Counter(dead_command):\n",
    "                continue\n",
    "            p_commands[command].append(''.join(dir_code) + 'A')\n",
    "        p_commands[command] = list(set(p_commands[command]))\n",
    "    return p_commands\n"
   ]
  },
  {
   "cell_type": "code",
   "execution_count": 4,
   "metadata": {},
   "outputs": [],
   "source": [
    "numeric_commands = get_permutations(get_commands(numeric_pad))\n",
    "directional_commands = get_permutations(get_commands(directional_pad))\n",
    "\n",
    "dp = {0: {command : 1 for command in directional_commands}}\n",
    "\n",
    "for depth in range(1, 26):\n",
    "    dp[depth] = {}\n",
    "    for command in directional_commands:\n",
    "        min_code_len = float('inf')\n",
    "        for dir_code in directional_commands[command]:\n",
    "            initial_pos = 'A'\n",
    "            code_len = 0\n",
    "            for button in dir_code:\n",
    "                code_len += dp[depth - 1][initial_pos + button]\n",
    "                initial_pos = button\n",
    "            min_code_len = min(min_code_len, code_len)\n",
    "        dp[depth][command] = min_code_len"
   ]
  },
  {
   "cell_type": "code",
   "execution_count": 5,
   "metadata": {},
   "outputs": [],
   "source": [
    "def get_dir_codes(numeric_code):\n",
    "    initial_pos = 'A'\n",
    "    candidate_codes = ['']\n",
    "    for button in numeric_code:\n",
    "        tmp_candidate_codes = []\n",
    "        for candidate_code in candidate_codes:\n",
    "            for candidate in numeric_commands[initial_pos + button]:\n",
    "                tmp_candidate_codes.append(candidate_code + candidate)\n",
    "        candidate_codes = tmp_candidate_codes\n",
    "        initial_pos = button\n",
    "    return candidate_codes\n",
    "\n",
    "def get_code_length_dir_code(dir_code, depth):\n",
    "    initial_pos = 'A'\n",
    "    code_len = 0\n",
    "    for button in dir_code:\n",
    "        code_len += dp[depth][initial_pos + button]\n",
    "        initial_pos = button\n",
    "    return code_len\n",
    "\n",
    "def get_code_length_numeric_code(numeric_code, depth):\n",
    "    candidate_codes = get_dir_codes(numeric_code)\n",
    "    return min(get_code_length_dir_code(candidate_code, depth) for candidate_code in candidate_codes)"
   ]
  },
  {
   "cell_type": "markdown",
   "metadata": {},
   "source": [
    "# Part 1 and 2"
   ]
  },
  {
   "cell_type": "code",
   "execution_count": 6,
   "metadata": {},
   "outputs": [
    {
     "name": "stdout",
     "output_type": "stream",
     "text": [
      "Part 1: 238078\n",
      "Part 2: 293919502998014\n"
     ]
    }
   ],
   "source": [
    "res_2 = res_25 = 0\n",
    "for numeric_code in codes:\n",
    "    res_2 += get_code_length_numeric_code(numeric_code, 2) * int(numeric_code[:-1])\n",
    "    res_25 += get_code_length_numeric_code(numeric_code, 25) * int(numeric_code[:-1])\n",
    "\n",
    "print('Part 1:', res_2)\n",
    "print('Part 2:', res_25)"
   ]
  }
 ],
 "metadata": {
  "kernelspec": {
   "display_name": "base",
   "language": "python",
   "name": "python3"
  },
  "language_info": {
   "codemirror_mode": {
    "name": "ipython",
    "version": 3
   },
   "file_extension": ".py",
   "mimetype": "text/x-python",
   "name": "python",
   "nbconvert_exporter": "python",
   "pygments_lexer": "ipython3",
   "version": "3.12.4"
  }
 },
 "nbformat": 4,
 "nbformat_minor": 2
}
